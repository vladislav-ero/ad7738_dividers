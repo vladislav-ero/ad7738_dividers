{
 "cells": [
  {
   "cell_type": "code",
   "execution_count": 3,
   "metadata": {},
   "outputs": [],
   "source": [
    "import numpy as np\n",
    "from decimal import Decimal"
   ]
  },
  {
   "cell_type": "code",
   "execution_count": 2,
   "metadata": {},
   "outputs": [],
   "source": [
    "fw_array = np.arange(2,128)"
   ]
  },
  {
   "cell_type": "code",
   "execution_count": 26,
   "metadata": {},
   "outputs": [],
   "source": [
    "def conv_time ( fw, freq: float, chopping: bool) -> float:\n",
    "    \"\"\"\n",
    "    Input frequency in MHz\n",
    "    Outputs conversion time in microseconds\n",
    "    \"\"\"\n",
    "    if chopping == True:\n",
    "        return (fw * 128 + 249) / freq\n",
    "    return (fw * 64 + 207) / freq"
   ]
  },
  {
   "cell_type": "code",
   "execution_count": 51,
   "metadata": {},
   "outputs": [
    {
     "data": {
      "text/plain": [
       "250.0817795224076"
      ]
     },
     "execution_count": 51,
     "metadata": {},
     "output_type": "execute_result"
    }
   ],
   "source": [
    "t = conv_time(10, 6.114, chopping=True)\n",
    "t"
   ]
  },
  {
   "cell_type": "code",
   "execution_count": 52,
   "metadata": {},
   "outputs": [
    {
     "data": {
      "text/plain": [
       "3998.6919555264876"
      ]
     },
     "execution_count": 52,
     "metadata": {},
     "output_type": "execute_result"
    }
   ],
   "source": [
    "total_freq = 1 / (t / 1e6)\n",
    "total_freq"
   ]
  },
  {
   "cell_type": "code",
   "execution_count": 53,
   "metadata": {},
   "outputs": [
    {
     "data": {
      "text/plain": [
       "999.6729888816219"
      ]
     },
     "execution_count": 53,
     "metadata": {},
     "output_type": "execute_result"
    }
   ],
   "source": [
    "channel_freq = total_freq / 4\n",
    "channel_freq"
   ]
  },
  {
   "cell_type": "code",
   "execution_count": 54,
   "metadata": {},
   "outputs": [
    {
     "data": {
      "text/plain": [
       "250.0"
      ]
     },
     "execution_count": 54,
     "metadata": {},
     "output_type": "execute_result"
    }
   ],
   "source": [
    "t_l = 1 / 4000\n",
    "t_l * 1e6"
   ]
  },
  {
   "cell_type": "code",
   "execution_count": 56,
   "metadata": {},
   "outputs": [],
   "source": []
  },
  {
   "cell_type": "code",
   "execution_count": 58,
   "metadata": {},
   "outputs": [
    {
     "data": {
      "text/plain": [
       "Decimal('7.144')"
      ]
     },
     "execution_count": 58,
     "metadata": {},
     "output_type": "execute_result"
    }
   ],
   "source": [
    "frequency = Decimal('6.144')\n",
    "frequency "
   ]
  },
  {
   "cell_type": "code",
   "execution_count": 7,
   "metadata": {},
   "outputs": [],
   "source": [
    "def conv_time ( fw, freq, chopping: bool):\n",
    "    \"\"\"\n",
    "    Input frequency in MHz\n",
    "    Outputs conversion time in microseconds\n",
    "    \"\"\"\n",
    "    if chopping == True:\n",
    "        return (fw * 128 + 249) / freq\n",
    "    return (fw * 64 + 207) / freq"
   ]
  },
  {
   "cell_type": "code",
   "execution_count": 61,
   "metadata": {},
   "outputs": [
    {
     "data": {
      "text/plain": [
       "Decimal('248.8606770833333333333333333')"
      ]
     },
     "execution_count": 61,
     "metadata": {},
     "output_type": "execute_result"
    }
   ],
   "source": [
    "t = conv_time(10, frequency, chopping=True)\n",
    "t"
   ]
  },
  {
   "cell_type": "code",
   "execution_count": 63,
   "metadata": {},
   "outputs": [
    {
     "data": {
      "text/plain": [
       "Decimal('4018.312622629169391759319817')"
      ]
     },
     "execution_count": 63,
     "metadata": {},
     "output_type": "execute_result"
    }
   ],
   "source": [
    "total_freq = 1 / (t / Decimal(1e6))\n",
    "total_freq"
   ]
  },
  {
   "cell_type": "code",
   "execution_count": 68,
   "metadata": {},
   "outputs": [
    {
     "name": "stdout",
     "output_type": "stream",
     "text": [
      "Failure\n"
     ]
    }
   ],
   "source": [
    "if (total_freq / Decimal('4')) - 1000 > 1:\n",
    "    print('Failure')"
   ]
  },
  {
   "cell_type": "code",
   "execution_count": 77,
   "metadata": {},
   "outputs": [
    {
     "name": "stdout",
     "output_type": "stream",
     "text": [
      "Success (CH ON):  fw:10 - channel frequency: 1004.578155657292347939829954\n"
     ]
    }
   ],
   "source": [
    "for fw in fw_array:\n",
    "    delta = 5\n",
    "    t = conv_time(fw, frequency, chopping=True)\n",
    "    total_freq = 1 / (t / Decimal(1e6))\n",
    "    channel_freq = total_freq / Decimal('4')\n",
    "    if np.abs((channel_freq) - 1000) <= delta:\n",
    "        print(f'Success (CH ON):  fw:{fw} - channel frequency: {channel_freq}')\n",
    "    t = conv_time(fw, frequency, chopping=False)\n",
    "    total_freq = 1 / (t / Decimal(1e6))\n",
    "    channel_freq = total_freq / Decimal('4')\n",
    "    if np.abs((channel_freq) - 1000) <= delta:\n",
    "        print(f'Success (CH OFF): fw:{fw} - channel frequency: {channel_freq}')"
   ]
  },
  {
   "cell_type": "code",
   "execution_count": 49,
   "metadata": {},
   "outputs": [],
   "source": [
    "def check_divider(frequency, fw_array, delta):\n",
    "    for fw in fw_array:\n",
    "        t = conv_time(fw, frequency, chopping=True)\n",
    "        total_freq = 1 / (t / Decimal(1e6))\n",
    "        channel_freq = total_freq / Decimal('4')\n",
    "        if np.abs((channel_freq) - 1000) <= delta:\n",
    "            print(f'Success (CH ON) frequency {frequency} MHz:\\n\\tfw:{fw} |0x{fw:02x}| - channel frequency: {channel_freq}\\n\\tdelta: {(channel_freq) - 1000: 2.3f}')\n",
    "        t = conv_time(fw, frequency, chopping=False)\n",
    "        total_freq = 1 / (t / Decimal(1e6))\n",
    "        channel_freq = total_freq / Decimal('4')\n",
    "        if np.abs((channel_freq) - 1000) <= delta:\n",
    "            print(f'Success (CH OFF) frequency {frequency} MHz:\\n\\tfw:{fw} |0x{fw:02x}| - channel frequency: {channel_freq}\\n\\tdelta: {(channel_freq) - 1000: 2.3f}')"
   ]
  },
  {
   "cell_type": "code",
   "execution_count": 87,
   "metadata": {},
   "outputs": [
    {
     "name": "stdout",
     "output_type": "stream",
     "text": [
      "Success (CH ON) frequency 6.144 MHz:\n",
      "\tfw:10 - channel frequency: 1004.578155657292347939829954\n"
     ]
    }
   ],
   "source": [
    "check_divider(Decimal(\"6.144\"), fw_array, 5)"
   ]
  },
  {
   "cell_type": "code",
   "execution_count": 129,
   "metadata": {},
   "outputs": [],
   "source": [
    "frequencies = [Decimal('3') ,Decimal('6.144')]"
   ]
  },
  {
   "cell_type": "code",
   "execution_count": 130,
   "metadata": {},
   "outputs": [],
   "source": [
    "for freq in frequencies:\n",
    "    check_divider(freq, fw_array, 1)1 / Decimal('4000')"
   ]
  },
  {
   "cell_type": "code",
   "execution_count": 147,
   "metadata": {},
   "outputs": [
    {
     "data": {
      "text/plain": [
       "Decimal('0.00025')"
      ]
     },
     "execution_count": 147,
     "metadata": {},
     "output_type": "execute_result"
    }
   ],
   "source": [
    "1 / Decimal('4000')"
   ]
  },
  {
   "cell_type": "code",
   "execution_count": 150,
   "metadata": {},
   "outputs": [
    {
     "data": {
      "text/plain": [
       "Decimal('1000.096')"
      ]
     },
     "execution_count": 150,
     "metadata": {},
     "output_type": "execute_result"
    }
   ],
   "source": [
    "(32 * 128 + 249 / con_time) / Decimal(\"1000\")"
   ]
  },
  {
   "cell_type": "code",
   "execution_count": 199,
   "metadata": {},
   "outputs": [
    {
     "name": "stdout",
     "output_type": "stream",
     "text": [
      "CH ON fw: \"02\": MCLK 2.020 MHz\n",
      "CH ON fw: \"03\": MCLK 2.532 MHz\n",
      "CH ON fw: \"04\": MCLK 3.044 MHz\n",
      "CH ON fw: \"05\": MCLK 3.556 MHz\n",
      "CH ON fw: \"06\": MCLK 4.068 MHz\n",
      "CH ON fw: \"07\": MCLK 4.580 MHz\n",
      "CH ON fw: \"08\": MCLK 5.092 MHz\n",
      "CH ON fw: \"09\": MCLK 5.604 MHz\n",
      "CH ON fw: \"10\": MCLK 6.116 MHz\n"
     ]
    }
   ],
   "source": [
    "con_time = 1 / Decimal('4000')\n",
    "for fw in fw_array:\n",
    "    mclk = (fw * 128 + 249) / con_time\n",
    "    if mclk < 6144000:\n",
    "        print(f'CH ON fw: \"{fw:02}\": MCLK {mclk / Decimal(\"1000000\"):.3f} MHz')"
   ]
  },
  {
   "cell_type": "code",
   "execution_count": 6,
   "metadata": {},
   "outputs": [
    {
     "name": "stdout",
     "output_type": "stream",
     "text": [
      "CH OFF fw: \"03\": MCLK 1.596 MHz\n",
      "CH OFF fw: \"04\": MCLK 1.852 MHz\n",
      "CH OFF fw: \"05\": MCLK 2.108 MHz\n",
      "CH OFF fw: \"06\": MCLK 2.364 MHz\n",
      "CH OFF fw: \"07\": MCLK 2.620 MHz\n",
      "CH OFF fw: \"08\": MCLK 2.876 MHz\n",
      "CH OFF fw: \"09\": MCLK 3.132 MHz\n",
      "CH OFF fw: \"10\": MCLK 3.388 MHz\n",
      "CH OFF fw: \"11\": MCLK 3.644 MHz\n",
      "CH OFF fw: \"12\": MCLK 3.900 MHz\n",
      "CH OFF fw: \"13\": MCLK 4.156 MHz\n",
      "CH OFF fw: \"14\": MCLK 4.412 MHz\n",
      "CH OFF fw: \"15\": MCLK 4.668 MHz\n",
      "CH OFF fw: \"16\": MCLK 4.924 MHz\n",
      "CH OFF fw: \"17\": MCLK 5.180 MHz\n",
      "CH OFF fw: \"18\": MCLK 5.436 MHz\n",
      "CH OFF fw: \"19\": MCLK 5.692 MHz\n",
      "CH OFF fw: \"20\": MCLK 5.948 MHz\n"
     ]
    }
   ],
   "source": [
    "con_time = 1 / Decimal('4000')\n",
    "for fw in fw_array[1:]:\n",
    "    mclk = (fw * 64 + 207) / con_time\n",
    "    if mclk < 6144000:\n",
    "        print(f'CH OFF fw: \"{fw:02}\": MCLK {mclk / Decimal(\"1000000\"):.3f} MHz')"
   ]
  },
  {
   "cell_type": "code",
   "execution_count": 52,
   "metadata": {},
   "outputs": [
    {
     "name": "stdout",
     "output_type": "stream",
     "text": [
      "Success (CH ON) frequency 6.144 MHz:\n",
      "\tfw:10 |0x0a| - channel frequency: 1004.578155657292347939829954\n",
      "\tdelta:  4.578\n",
      "Success (CH OFF) frequency 6.144 MHz:\n",
      "\tfw:21 |0x15| - channel frequency: 990.3288201160541586073500968\n",
      "\tdelta: -9.671\n"
     ]
    }
   ],
   "source": [
    "check_divider(Decimal(\"6.144\"), fw_array, 10)"
   ]
  },
  {
   "cell_type": "code",
   "execution_count": 51,
   "metadata": {},
   "outputs": [
    {
     "name": "stdout",
     "output_type": "stream",
     "text": [
      "Success (CH OFF) frequency 4.9152 MHz:\n",
      "\tfw:16 |0x10| - channel frequency: 998.212835093419983753046304\n",
      "\tdelta: -1.787\n"
     ]
    }
   ],
   "source": [
    "frequencies = [Decimal('3.579545'), Decimal('3.6864'), Decimal('4'), Decimal('4.096'), Decimal('4.194304'), Decimal('4.9152'), Decimal('5'), Decimal('6'), Decimal('6.144')]\n",
    "for freq in frequencies:\n",
    "    check_divider(freq, fw_array, 2)"
   ]
  },
  {
   "cell_type": "code",
   "execution_count": 53,
   "metadata": {},
   "outputs": [
    {
     "name": "stdout",
     "output_type": "stream",
     "text": [
      "Success (CH OFF) frequency 4.921 MHz:\n",
      "\tfw:16 |0x10| - channel frequency: 999.3907392363931762794476038\n",
      "\tdelta: -0.609\n",
      "Success (CH OFF) frequency 4.928 MHz:\n",
      "\tfw:16 |0x10| - channel frequency: 1000.812347684809098294069862\n",
      "\tdelta:  0.812\n"
     ]
    }
   ],
   "source": [
    "frequencies = [Decimal('4.91476'),\n",
    "               Decimal('4.915'),\n",
    "               Decimal('4.9152'),\n",
    "               Decimal('4.916'),\n",
    "               Decimal('4.921'),\n",
    "               Decimal('4.928')\n",
    "              ]\n",
    "for freq in frequencies:\n",
    "    check_divider(freq, fw_array, 1)"
   ]
  },
  {
   "cell_type": "code",
   "execution_count": null,
   "metadata": {},
   "outputs": [],
   "source": []
  }
 ],
 "metadata": {
  "kernelspec": {
   "display_name": "Python 3",
   "language": "python",
   "name": "python3"
  },
  "language_info": {
   "codemirror_mode": {
    "name": "ipython",
    "version": 3
   },
   "file_extension": ".py",
   "mimetype": "text/x-python",
   "name": "python",
   "nbconvert_exporter": "python",
   "pygments_lexer": "ipython3",
   "version": "3.8.1"
  }
 },
 "nbformat": 4,
 "nbformat_minor": 4
}
